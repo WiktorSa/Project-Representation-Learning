{
 "cells": [
  {
   "cell_type": "markdown",
   "id": "3829d6c4-23bb-474c-9f68-3d1fb3232fac",
   "metadata": {},
   "source": [
    "# Standard Classifier\n",
    "\n",
    "W tym notebooku przyjrzymy się co się stanie jak użyjemy zwykłego klasyfikatora do rozwiązania naszego problemu"
   ]
  },
  {
   "cell_type": "markdown",
   "id": "55beaeb9-08d7-4b4c-b954-f9edc3aaefe9",
   "metadata": {},
   "source": [
    "# Import bibliotek"
   ]
  },
  {
   "cell_type": "code",
   "execution_count": null,
   "id": "af3cc502-3129-414b-8839-b3d192564297",
   "metadata": {},
   "outputs": [],
   "source": [
    "import numpy as np\n",
    "import torch\n",
    "import torch.nn as nn\n",
    "import torch.optim as optim\n",
    "from torch.utils.data import DataLoader\n",
    "from src.dataset import *\n",
    "from src.early_stopping import *\n",
    "from src.utils import *"
   ]
  },
  {
   "cell_type": "markdown",
   "id": "c03c53b2-4e56-4221-87d4-8814a788f610",
   "metadata": {},
   "source": [
    "# Wczytanie danych do trenowania klasyfikatora"
   ]
  },
  {
   "cell_type": "code",
   "execution_count": null,
   "id": "ce4c0e15-6053-4662-94fc-916629986bf8",
   "metadata": {},
   "outputs": [],
   "source": [
    "data_train = np.load('data_transform/subset0/data.npz')\n",
    "data_train"
   ]
  },
  {
   "cell_type": "code",
   "execution_count": null,
   "id": "8b0acd5a-2eb0-4197-8625-35171638983d",
   "metadata": {},
   "outputs": [],
   "source": [
    "X_train = data_train['images']\n",
    "X_train.shape"
   ]
  },
  {
   "cell_type": "code",
   "execution_count": null,
   "id": "0665e550-ff2a-4f90-9709-6052b8d3ee1d",
   "metadata": {},
   "outputs": [],
   "source": [
    "y_train = data_train['labels']\n",
    "y_train.shape"
   ]
  },
  {
   "cell_type": "markdown",
   "id": "35d3dc07-a3b4-4b0b-831b-3cda3abd772f",
   "metadata": {},
   "source": [
    "# Wczytanie danych do walidacji klasyfikatora"
   ]
  },
  {
   "cell_type": "code",
   "execution_count": null,
   "id": "153f0080-27cc-4fa1-bdf5-a9d3c3fd51d9",
   "metadata": {},
   "outputs": [],
   "source": [
    "data_val = images4 = np.load('data_transform/subset4/data.npz')\n",
    "data_val"
   ]
  },
  {
   "cell_type": "code",
   "execution_count": null,
   "id": "e9a6dd06-7bcd-461b-be97-fef26b5e2fa2",
   "metadata": {},
   "outputs": [],
   "source": [
    "X_val = data_val['images']\n",
    "X_val.shape"
   ]
  },
  {
   "cell_type": "code",
   "execution_count": null,
   "id": "786d373c-bceb-463f-a5df-ad026bcc3c7b",
   "metadata": {},
   "outputs": [],
   "source": [
    "y_val = data_val['labels']\n",
    "y_val.shape"
   ]
  },
  {
   "cell_type": "markdown",
   "id": "dc6cba1c-6e93-4964-a9ac-758341d36762",
   "metadata": {},
   "source": [
    "# Trenowanie klasyfikatora"
   ]
  },
  {
   "cell_type": "code",
   "execution_count": null,
   "id": "d11a9219-4f62-4e4f-b7ee-45af68360cb9",
   "metadata": {},
   "outputs": [],
   "source": [
    "class StandardClassifier(nn.Module):\n",
    "    def __init__(self, channels, no_classes, image_planes=10, images_width=32, images_height=32):\n",
    "        super().__init__()\n",
    "        self.model = torch.nn.Sequential()\n",
    "        \n",
    "        for i in range(len(channels)-1):\n",
    "            self.model.add_module(f'conv_{i}', nn.Conv3d(channels[i], channels[i+1], kernel_size=3, padding=1))\n",
    "            self.model.add_module(f'relu_{i}', nn.ReLU())\n",
    "            self.model.add_module(f'maxpool_{i}', nn.MaxPool3d(2))\n",
    "\n",
    "            image_planes = (image_planes - 2) // 2 + 1\n",
    "            images_width = (images_width - 2) // 2 + 1\n",
    "            images_height = (images_height - 2) // 2 + 1\n",
    "\n",
    "        conv_out = channels[-1]*image_planes*images_width*images_height\n",
    "            \n",
    "        self.model.add_module(\"flatten\", nn.Flatten())\n",
    "        self.model.add_module(\"linear\", nn.Linear(conv_out, conv_out))\n",
    "        self.model.add_module(\"relu\", nn.ReLU())\n",
    "        self.model.add_module(\"dropout\", nn.Dropout(0.2))\n",
    "        self.model.add_module(\"linear_out\", nn.Linear(conv_out, no_classes))\n",
    "    \n",
    "    def forward(self, x):\n",
    "        return self.model(x)"
   ]
  },
  {
   "cell_type": "code",
   "execution_count": null,
   "id": "3087423e-4eb4-4e47-95cf-4b025fdbe935",
   "metadata": {},
   "outputs": [],
   "source": [
    "seed_everything()\n",
    "\n",
    "train_dataset = LabelledDataset(X_train, y_train)\n",
    "val_dataset = LabelledDataset(X_val, y_val)\n",
    "\n",
    "train_dl = DataLoader(train_dataset, batch_size=64, shuffle=True)\n",
    "val_dl = DataLoader(val_dataset, batch_size=64, shuffle=True)\n",
    "\n",
    "model = StandardClassifier([1, 16, 32, 64], 2).cuda()\n",
    "optimiser = optim.Adam(model.parameters(), lr=0.001)\n",
    "loss_fn = torch.nn.CrossEntropyLoss()\n",
    "\n",
    "fit_classifier(\n",
    "    model=model, optimiser=optimiser, loss_fn=loss_fn,\n",
    "    train_dl=train_dl, val_dl=val_dl, epochs=50, early_stop=EarlyStopping(model_dir='model/standard', patience=5), print_metrics=True\n",
    ")"
   ]
  },
  {
   "cell_type": "markdown",
   "id": "1763cc4f-9912-455f-9175-9b2c0d9d5188",
   "metadata": {},
   "source": [
    "# Liczenie metryk klasyfikacyjnych"
   ]
  },
  {
   "cell_type": "code",
   "execution_count": null,
   "id": "8a7aff9b-d9ec-49e0-ba60-c614e9248415",
   "metadata": {},
   "outputs": [],
   "source": [
    "val_dataset = LabelledDataset(X_val, y_val)\n",
    "val_dl = DataLoader(val_dataset, batch_size=64, shuffle=True)\n",
    "calculate_metrics(model, val_dl)"
   ]
  }
 ],
 "metadata": {
  "kernelspec": {
   "display_name": "Python 3 (ipykernel)",
   "language": "python",
   "name": "python3"
  },
  "language_info": {
   "codemirror_mode": {
    "name": "ipython",
    "version": 3
   },
   "file_extension": ".py",
   "mimetype": "text/x-python",
   "name": "python",
   "nbconvert_exporter": "python",
   "pygments_lexer": "ipython3",
   "version": "3.11.7"
  }
 },
 "nbformat": 4,
 "nbformat_minor": 5
}
